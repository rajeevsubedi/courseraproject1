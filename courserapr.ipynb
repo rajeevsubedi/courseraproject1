{
 "cells": [
  {
   "cell_type": "markdown",
   "id": "2e66908e-2b62-4a7a-83cc-f40823b17403",
   "metadata": {},
   "source": [
    "INTRODUCTION TO JUPYTER"
   ]
  },
  {
   "attachments": {},
   "cell_type": "markdown",
   "id": "ca44f269-dd53-4856-94e1-ab70dee753a9",
   "metadata": {},
   "source": [
    "In this notebook, we will gain hands-on experience with Jupyter.\n"
   ]
  },
  {
   "cell_type": "markdown",
   "id": "6ebb2b0c-5d56-4fcc-a8f2-a1ef09671a77",
   "metadata": {},
   "source": [
    "Below is an ordered list of popular programming languages used in Data Science:\r\n",
    "\r\n",
    "1. Python\r\n",
    "2. R\r\n",
    "3. SQL\r\n",
    "4. Julia\r\n",
    "5. Java\r\n"
   ]
  },
  {
   "cell_type": "markdown",
   "id": "836f0f19-c7cc-400b-980d-2bb2c0e6ace6",
   "metadata": {},
   "source": [
    "Below is an ordered list of some popular libraries used in Data Science:\r\n",
    "\r\n",
    "1. NumPy\r\n",
    "2. Pandas\r\n",
    "3. Matplotlib\r\n",
    "4. Scikit-learn\r\n",
    "5. TensorFlow\r\n"
   ]
  },
  {
   "cell_type": "markdown",
   "id": "04df1f92-ef77-452d-a1a6-4d9311111ec7",
   "metadata": {},
   "source": [
    "Below is a table of some popular tools used in Data Science:\n",
    "\n",
    "1. Jupyter\n",
    "2. RStudio\n",
    "3. Apache Hadoop"
   ]
  },
  {
   "cell_type": "markdown",
   "id": "39b48e5e-6f45-4c05-9565-8b701983937a",
   "metadata": {},
   "source": [
    "Arithmetic expressions are mathematical formulas that use operators to perform calculations.\n",
    "for example 2+2 = 4 and 2*5 = 10"
   ]
  },
  {
   "cell_type": "code",
   "execution_count": 19,
   "id": "53b6061b-d525-477c-9c1f-948b05e5e990",
   "metadata": {},
   "outputs": [
    {
     "data": {
      "text/plain": [
       "70"
      ]
     },
     "execution_count": 19,
     "metadata": {},
     "output_type": "execute_result"
    }
   ],
   "source": [
    "calc = (5 * 10) + 20\n",
    "calc"
   ]
  },
  {
   "cell_type": "code",
   "execution_count": 21,
   "id": "a8bb88c7-d350-4fb4-b4de-34f33027de89",
   "metadata": {},
   "outputs": [
    {
     "data": {
      "text/plain": [
       "180"
      ]
     },
     "execution_count": 21,
     "metadata": {},
     "output_type": "execute_result"
    }
   ],
   "source": [
    "hours = 3\n",
    "minutes = hours * 60\n",
    "minutes"
   ]
  },
  {
   "cell_type": "markdown",
   "id": "4251ef52-8542-46ad-86e2-99edd4f1fab5",
   "metadata": {},
   "source": [
    "Below are the objectives of this notebook:\n",
    "- Understand Jupyter Notebook\n",
    "- Explore data science tools, programming languages and libraries\n",
    "- Perform arithmetic operations"
   ]
  },
  {
   "cell_type": "markdown",
   "id": "de181724-c611-4d7c-af2f-0cc8ab3ab94c",
   "metadata": {},
   "source": [
    "Author: Rajeev Subedi\n"
   ]
  }
 ],
 "metadata": {
  "kernelspec": {
   "display_name": "Python 3 (ipykernel)",
   "language": "python",
   "name": "python3"
  },
  "language_info": {
   "codemirror_mode": {
    "name": "ipython",
    "version": 3
   },
   "file_extension": ".py",
   "mimetype": "text/x-python",
   "name": "python",
   "nbconvert_exporter": "python",
   "pygments_lexer": "ipython3",
   "version": "3.12.4"
  }
 },
 "nbformat": 4,
 "nbformat_minor": 5
}
